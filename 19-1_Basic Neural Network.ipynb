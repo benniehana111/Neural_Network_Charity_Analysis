{
 "cells": [
  {
   "cell_type": "code",
   "execution_count": 1,
   "id": "d45c4a0e",
   "metadata": {},
   "outputs": [],
   "source": [
    "# Import our dependencies\n",
    "import pandas as pd\n",
    "import matplotlib as plt\n",
    "from sklearn.datasets import make_blobs\n",
    "import sklearn as skl\n",
    "import tensorflow as tf"
   ]
  },
  {
   "cell_type": "code",
   "execution_count": 2,
   "id": "8ac263d8",
   "metadata": {},
   "outputs": [
    {
     "data": {
      "text/plain": [
       "<AxesSubplot:xlabel='Feature 1', ylabel='Feature 2'>"
      ]
     },
     "execution_count": 2,
     "metadata": {},
     "output_type": "execute_result"
    },
    {
     "data": {
      "image/png": "[encoded data removed]",
      "text/plain": [
       "<Figure size 432x288 with 2 Axes>"
      ]
     },
     "metadata": {
      "needs_background": "light"
     },
     "output_type": "display_data"
    }
   ],
   "source": [
    "# Generate dummy dataset\n",
    "X, y = make_blobs(n_samples=1000, centers=2, n_features=2, random_state=78)\n",
    "\n",
    "# Creating a DataFrame with the dummy data\n",
    "df = pd.DataFrame(X, columns=[\"Feature 1\", \"Feature 2\"])\n",
    "df[\"Target\"] = y\n",
    "\n",
    "# Plotting the dummy data\n",
    "df.plot.scatter(x=\"Feature 1\", y=\"Feature 2\", c=\"Target\", colormap=\"winter\")"
   ]
  },
  {
   "cell_type": "code",
   "execution_count": 3,
   "id": "fd105e16",
   "metadata": {},
   "outputs": [],
   "source": [
    "# Use sklearn to split dataset\n",
    "from sklearn.model_selection import train_test_split\n",
    "X_train, X_test, y_train, y_test = train_test_split(X, y, random_state=78)"
   ]
  },
  {
   "cell_type": "code",
   "execution_count": 4,
   "id": "5525d2ec",
   "metadata": {},
   "outputs": [],
   "source": [
    "# Create scaler instance\n",
    "X_scaler = skl.preprocessing.StandardScaler()\n",
    "\n",
    "# Fit the scaler\n",
    "X_scaler.fit(X_train)\n",
    "\n",
    "# Scale the data\n",
    "X_train_scaled = X_scaler.transform(X_train)\n",
    "X_test_scaled = X_scaler.transform(X_test)"
   ]
  },
  {
   "cell_type": "code",
   "execution_count": 5,
   "id": "2f063205",
   "metadata": {},
   "outputs": [],
   "source": [
    "# Create the Keras Sequential model\n",
    "nn_model = tf.keras.models.Sequential()"
   ]
  },
  {
   "cell_type": "code",
   "execution_count": 6,
   "id": "eb63964d",
   "metadata": {},
   "outputs": [],
   "source": [
    "# Add our first Dense layer, including the input layer\n",
    "nn_model.add(tf.keras.layers.Dense(units=1, activation=\"relu\", input_dim=2))"
   ]
  },
  {
   "cell_type": "code",
   "execution_count": 7,
   "id": "1653db63",
   "metadata": {},
   "outputs": [],
   "source": [
    "# Add the output layer that uses a probability activation function\n",
    "nn_model.add(tf.keras.layers.Dense(units=1, activation=\"sigmoid\"))"
   ]
  },
  {
   "cell_type": "code",
   "execution_count": 8,
   "id": "e7849ec5",
   "metadata": {},
   "outputs": [
    {
     "name": "stdout",
     "output_type": "stream",
     "text": [
      "Model: \"sequential\"\n",
      "_________________________________________________________________\n",
      " Layer (type)                Output Shape              Param #   \n",
      "=================================================================\n",
      " dense (Dense)               (None, 1)                 3         \n",
      "                                                                 \n",
      " dense_1 (Dense)             (None, 1)                 2         \n",
      "                                                                 \n",
      "=================================================================\n",
      "Total params: 5\n",
      "Trainable params: 5\n",
      "Non-trainable params: 0\n",
      "_________________________________________________________________\n"
     ]
    }
   ],
   "source": [
    "# Check the structure of the Sequential model\n",
    "nn_model.summary()"
   ]
  },
  {
   "cell_type": "code",
   "execution_count": 9,
   "id": "2d2bcf2e",
   "metadata": {},
   "outputs": [],
   "source": [
    "# Compile the Sequential model together and customize metrics\n",
    "nn_model.compile(loss=\"binary_crossentropy\", optimizer=\"adam\", metrics=[\"accuracy\"])"
   ]
  },
  {
   "cell_type": "code",
   "execution_count": 10,
   "id": "4999ac1b",
   "metadata": {},
   "outputs": [
    {
     "name": "stdout",
     "output_type": "stream",
     "text": [
      "Epoch 1/100\n",
      "24/24 [==============================] - 0s 855us/step - loss: 0.5753 - accuracy: 0.9787\n",
      "Epoch 2/100\n",
      "24/24 [==============================] - 0s 1ms/step - loss: 0.5630 - accuracy: 1.0000\n",
      "Epoch 3/100\n",
      "24/24 [==============================] - 0s 1ms/step - loss: 0.5503 - accuracy: 1.0000\n",
      "Epoch 4/100\n",
      "24/24 [==============================] - 0s 1ms/step - loss: 0.5374 - accuracy: 1.0000\n",
      "Epoch 5/100\n",
      "24/24 [==============================] - 0s 1ms/step - loss: 0.5243 - accuracy: 1.0000\n",
      "Epoch 6/100\n",
      "24/24 [==============================] - 0s 1ms/step - loss: 0.5109 - accuracy: 1.0000\n",
      "Epoch 7/100\n",
      "24/24 [==============================] - 0s 1ms/step - loss: 0.4975 - accuracy: 1.0000\n",
      "Epoch 8/100\n",
      "24/24 [==============================] - 0s 1ms/step - loss: 0.4840 - accuracy: 1.0000\n",
      "Epoch 9/100\n",
      "24/24 [==============================] - 0s 946us/step - loss: 0.4706 - accuracy: 1.0000\n",
      "Epoch 10/100\n",
      "24/24 [==============================] - 0s 1ms/step - loss: 0.4572 - accuracy: 1.0000\n",
      "Epoch 11/100\n",
      "24/24 [==============================] - 0s 997us/step - loss: 0.4441 - accuracy: 1.0000\n",
      "Epoch 12/100\n",
      "24/24 [==============================] - 0s 1ms/step - loss: 0.4312 - accuracy: 1.0000\n",
      "Epoch 13/100\n",
      "24/24 [==============================] - 0s 1ms/step - loss: 0.4186 - accuracy: 1.0000\n",
      "Epoch 14/100\n",
      "24/24 [==============================] - 0s 1ms/step - loss: 0.4063 - accuracy: 1.0000\n",
      "Epoch 15/100\n",
      "24/24 [==============================] - 0s 1ms/step - loss: 0.3943 - accuracy: 1.0000\n",
      "Epoch 16/100\n",
      "24/24 [==============================] - 0s 1ms/step - loss: 0.3826 - accuracy: 1.0000\n",
      "Epoch 17/100\n",
      "24/24 [==============================] - 0s 997us/step - loss: 0.3714 - accuracy: 1.0000\n",
      "Epoch 18/100\n",
      "24/24 [==============================] - 0s 1ms/step - loss: 0.3605 - accuracy: 1.0000\n",
      "Epoch 19/100\n",
      "24/24 [==============================] - 0s 1ms/step - loss: 0.3500 - accuracy: 1.0000\n",
      "Epoch 20/100\n",
      "24/24 [==============================] - 0s 1ms/step - loss: 0.3398 - accuracy: 1.0000\n",
      "Epoch 21/100\n",
      "24/24 [==============================] - 0s 1ms/step - loss: 0.3300 - accuracy: 1.0000\n",
      "Epoch 22/100\n",
      "24/24 [==============================] - 0s 1ms/step - loss: 0.3206 - accuracy: 1.0000\n",
      "Epoch 23/100\n",
      "24/24 [==============================] - 0s 1ms/step - loss: 0.3116 - accuracy: 1.0000\n",
      "Epoch 24/100\n",
      "24/24 [==============================] - 0s 997us/step - loss: 0.3029 - accuracy: 1.0000\n",
      "Epoch 25/100\n",
      "24/24 [==============================] - 0s 1ms/step - loss: 0.2946 - accuracy: 1.0000\n",
      "Epoch 26/100\n",
      "24/24 [==============================] - 0s 1ms/step - loss: 0.2865 - accuracy: 1.0000\n",
      "Epoch 27/100\n",
      "24/24 [==============================] - 0s 911us/step - loss: 0.2789 - accuracy: 1.0000\n",
      "Epoch 28/100\n",
      "24/24 [==============================] - 0s 1ms/step - loss: 0.2715 - accuracy: 1.0000\n",
      "Epoch 29/100\n",
      "24/24 [==============================] - 0s 1ms/step - loss: 0.2644 - accuracy: 1.0000\n",
      "Epoch 30/100\n",
      "24/24 [==============================] - 0s 996us/step - loss: 0.2575 - accuracy: 1.0000\n",
      "Epoch 31/100\n",
      "24/24 [==============================] - 0s 1ms/step - loss: 0.2509 - accuracy: 1.0000\n",
      "Epoch 32/100\n",
      "24/24 [==============================] - 0s 954us/step - loss: 0.2446 - accuracy: 1.0000\n",
      "Epoch 33/100\n",
      "24/24 [==============================] - 0s 1ms/step - loss: 0.2385 - accuracy: 1.0000\n",
      "Epoch 34/100\n",
      "24/24 [==============================] - 0s 1ms/step - loss: 0.2327 - accuracy: 1.0000\n",
      "Epoch 35/100\n",
      "24/24 [==============================] - 0s 1ms/step - loss: 0.2271 - accuracy: 1.0000\n",
      "Epoch 36/100\n",
      "24/24 [==============================] - 0s 997us/step - loss: 0.2217 - accuracy: 1.0000\n",
      "Epoch 37/100\n",
      "24/24 [==============================] - 0s 1ms/step - loss: 0.2164 - accuracy: 1.0000\n",
      "Epoch 38/100\n",
      "24/24 [==============================] - 0s 997us/step - loss: 0.2114 - accuracy: 1.0000\n",
      "Epoch 39/100\n",
      "24/24 [==============================] - 0s 1ms/step - loss: 0.2065 - accuracy: 1.0000\n",
      "Epoch 40/100\n",
      "24/24 [==============================] - 0s 1ms/step - loss: 0.2018 - accuracy: 1.0000\n",
      "Epoch 41/100\n",
      "24/24 [==============================] - 0s 1ms/step - loss: 0.1973 - accuracy: 1.0000\n",
      "Epoch 42/100\n",
      "24/24 [==============================] - 0s 997us/step - loss: 0.1929 - accuracy: 1.0000\n",
      "Epoch 43/100\n",
      "24/24 [==============================] - 0s 1ms/step - loss: 0.1887 - accuracy: 1.0000\n",
      "Epoch 44/100\n",
      "24/24 [==============================] - 0s 997us/step - loss: 0.1846 - accuracy: 1.0000\n",
      "Epoch 45/100\n",
      "24/24 [==============================] - 0s 997us/step - loss: 0.1806 - accuracy: 1.0000\n",
      "Epoch 46/100\n",
      "24/24 [==============================] - 0s 997us/step - loss: 0.1767 - accuracy: 1.0000\n",
      "Epoch 47/100\n",
      "24/24 [==============================] - 0s 950us/step - loss: 0.1730 - accuracy: 1.0000\n",
      "Epoch 48/100\n",
      "24/24 [==============================] - 0s 1ms/step - loss: 0.1694 - accuracy: 1.0000\n",
      "Epoch 49/100\n",
      "24/24 [==============================] - 0s 1ms/step - loss: 0.1659 - accuracy: 1.0000\n",
      "Epoch 50/100\n",
      "24/24 [==============================] - 0s 1ms/step - loss: 0.1626 - accuracy: 1.0000\n",
      "Epoch 51/100\n",
      "24/24 [==============================] - 0s 954us/step - loss: 0.1593 - accuracy: 1.0000\n",
      "Epoch 52/100\n",
      "24/24 [==============================] - 0s 1ms/step - loss: 0.1561 - accuracy: 1.0000\n",
      "Epoch 53/100\n",
      "24/24 [==============================] - 0s 1ms/step - loss: 0.1530 - accuracy: 1.0000\n",
      "Epoch 54/100\n",
      "24/24 [==============================] - 0s 911us/step - loss: 0.1500 - accuracy: 1.0000\n",
      "Epoch 55/100\n",
      "24/24 [==============================] - 0s 824us/step - loss: 0.1470 - accuracy: 1.0000\n",
      "Epoch 56/100\n",
      "24/24 [==============================] - 0s 990us/step - loss: 0.1442 - accuracy: 1.0000\n",
      "Epoch 57/100\n",
      "24/24 [==============================] - 0s 902us/step - loss: 0.1414 - accuracy: 1.0000\n",
      "Epoch 58/100\n",
      "24/24 [==============================] - 0s 911us/step - loss: 0.1387 - accuracy: 1.0000\n",
      "Epoch 59/100\n",
      "24/24 [==============================] - 0s 902us/step - loss: 0.1361 - accuracy: 1.0000\n",
      "Epoch 60/100\n",
      "24/24 [==============================] - 0s 920us/step - loss: 0.1336 - accuracy: 1.0000\n",
      "Epoch 61/100\n",
      "24/24 [==============================] - 0s 997us/step - loss: 0.1311 - accuracy: 1.0000\n",
      "Epoch 62/100\n",
      "24/24 [==============================] - 0s 954us/step - loss: 0.1287 - accuracy: 1.0000\n",
      "Epoch 63/100\n",
      "24/24 [==============================] - 0s 867us/step - loss: 0.1264 - accuracy: 1.0000\n",
      "Epoch 64/100\n",
      "24/24 [==============================] - 0s 911us/step - loss: 0.1241 - accuracy: 1.0000\n",
      "Epoch 65/100\n",
      "24/24 [==============================] - 0s 948us/step - loss: 0.1218 - accuracy: 1.0000\n",
      "Epoch 66/100\n",
      "24/24 [==============================] - 0s 824us/step - loss: 0.1197 - accuracy: 1.0000\n",
      "Epoch 67/100\n",
      "24/24 [==============================] - 0s 911us/step - loss: 0.1175 - accuracy: 1.0000\n",
      "Epoch 68/100\n",
      "24/24 [==============================] - 0s 911us/step - loss: 0.1155 - accuracy: 1.0000\n",
      "Epoch 69/100\n",
      "24/24 [==============================] - 0s 911us/step - loss: 0.1135 - accuracy: 1.0000\n",
      "Epoch 70/100\n",
      "24/24 [==============================] - 0s 887us/step - loss: 0.1115 - accuracy: 1.0000\n",
      "Epoch 71/100\n",
      "24/24 [==============================] - 0s 910us/step - loss: 0.1095 - accuracy: 1.0000\n",
      "Epoch 72/100\n",
      "24/24 [==============================] - 0s 1ms/step - loss: 0.1076 - accuracy: 1.0000\n",
      "Epoch 73/100\n",
      "24/24 [==============================] - 0s 997us/step - loss: 0.1058 - accuracy: 1.0000\n",
      "Epoch 74/100\n",
      "24/24 [==============================] - 0s 954us/step - loss: 0.1040 - accuracy: 1.0000\n",
      "Epoch 75/100\n",
      "24/24 [==============================] - 0s 911us/step - loss: 0.1023 - accuracy: 1.0000\n",
      "Epoch 76/100\n",
      "24/24 [==============================] - 0s 1ms/step - loss: 0.1006 - accuracy: 1.0000\n",
      "Epoch 77/100\n",
      "24/24 [==============================] - 0s 954us/step - loss: 0.0989 - accuracy: 1.0000\n",
      "Epoch 78/100\n",
      "24/24 [==============================] - 0s 911us/step - loss: 0.0973 - accuracy: 1.0000\n",
      "Epoch 79/100\n",
      "24/24 [==============================] - 0s 911us/step - loss: 0.0957 - accuracy: 1.0000\n",
      "Epoch 80/100\n",
      "24/24 [==============================] - 0s 952us/step - loss: 0.0941 - accuracy: 1.0000\n",
      "Epoch 81/100\n",
      "24/24 [==============================] - 0s 976us/step - loss: 0.0926 - accuracy: 1.0000\n",
      "Epoch 82/100\n"
     ]
    },
    {
     "name": "stdout",
     "output_type": "stream",
     "text": [
      "24/24 [==============================] - 0s 955us/step - loss: 0.0911 - accuracy: 1.0000\n",
      "Epoch 83/100\n",
      "24/24 [==============================] - 0s 997us/step - loss: 0.0896 - accuracy: 1.0000\n",
      "Epoch 84/100\n",
      "24/24 [==============================] - 0s 911us/step - loss: 0.0882 - accuracy: 1.0000\n",
      "Epoch 85/100\n",
      "24/24 [==============================] - 0s 895us/step - loss: 0.0868 - accuracy: 1.0000\n",
      "Epoch 86/100\n",
      "24/24 [==============================] - 0s 911us/step - loss: 0.0854 - accuracy: 1.0000\n",
      "Epoch 87/100\n",
      "24/24 [==============================] - 0s 867us/step - loss: 0.0841 - accuracy: 1.0000\n",
      "Epoch 88/100\n",
      "24/24 [==============================] - 0s 954us/step - loss: 0.0827 - accuracy: 1.0000\n",
      "Epoch 89/100\n",
      "24/24 [==============================] - 0s 911us/step - loss: 0.0815 - accuracy: 1.0000\n",
      "Epoch 90/100\n",
      "24/24 [==============================] - 0s 913us/step - loss: 0.0802 - accuracy: 1.0000\n",
      "Epoch 91/100\n",
      "24/24 [==============================] - 0s 867us/step - loss: 0.0790 - accuracy: 1.0000\n",
      "Epoch 92/100\n",
      "24/24 [==============================] - 0s 867us/step - loss: 0.0778 - accuracy: 1.0000\n",
      "Epoch 93/100\n",
      "24/24 [==============================] - 0s 913us/step - loss: 0.0766 - accuracy: 1.0000\n",
      "Epoch 94/100\n",
      "24/24 [==============================] - 0s 811us/step - loss: 0.0754 - accuracy: 1.0000\n",
      "Epoch 95/100\n",
      "24/24 [==============================] - 0s 824us/step - loss: 0.0743 - accuracy: 1.0000\n",
      "Epoch 96/100\n",
      "24/24 [==============================] - 0s 989us/step - loss: 0.0731 - accuracy: 1.0000\n",
      "Epoch 97/100\n",
      "24/24 [==============================] - 0s 911us/step - loss: 0.0720 - accuracy: 1.0000\n",
      "Epoch 98/100\n",
      "24/24 [==============================] - 0s 997us/step - loss: 0.0710 - accuracy: 1.0000\n",
      "Epoch 99/100\n",
      "24/24 [==============================] - 0s 954us/step - loss: 0.0699 - accuracy: 1.0000\n",
      "Epoch 100/100\n",
      "24/24 [==============================] - 0s 824us/step - loss: 0.0689 - accuracy: 1.0000\n"
     ]
    }
   ],
   "source": [
    "# Fit the model to the training data\n",
    "fit_model = nn_model.fit(X_train_scaled, y_train, epochs=100)"
   ]
  },
  {
   "cell_type": "code",
   "execution_count": 11,
   "id": "f8992e92",
   "metadata": {},
   "outputs": [
    {
     "data": {
      "text/plain": [
       "<AxesSubplot:>"
      ]
     },
     "execution_count": 11,
     "metadata": {},
     "output_type": "execute_result"
    },
    {
     "data": {
      "image/png": "[encoded data removed]",
      "text/plain": [
       "<Figure size 432x288 with 1 Axes>"
      ]
     },
     "metadata": {
      "needs_background": "light"
     },
     "output_type": "display_data"
    }
   ],
   "source": [
    "# Create a DataFrame containing training history\n",
    "history_df = pd.DataFrame(fit_model.history, index=range(1,len(fit_model.history[\"loss\"])+1))\n",
    "\n",
    "# Plot the loss\n",
    "history_df.plot(y=\"loss\")"
   ]
  },
  {
   "cell_type": "code",
   "execution_count": 12,
   "id": "10f61bf3",
   "metadata": {},
   "outputs": [
    {
     "data": {
      "text/plain": [
       "<AxesSubplot:>"
      ]
     },
     "execution_count": 12,
     "metadata": {},
     "output_type": "execute_result"
    },
    {
     "data": {
      "image/png": "[encoded data removed]",
      "text/plain": [
       "<Figure size 432x288 with 1 Axes>"
      ]
     },
     "metadata": {
      "needs_background": "light"
     },
     "output_type": "display_data"
    }
   ],
   "source": [
    "# Plot the accuracy\n",
    "history_df.plot(y=\"accuracy\")"
   ]
  },
  {
   "cell_type": "code",
   "execution_count": 13,
   "id": "227cb243",
   "metadata": {},
   "outputs": [
    {
     "name": "stdout",
     "output_type": "stream",
     "text": [
      "8/8 - 0s - loss: 0.0704 - accuracy: 1.0000 - 124ms/epoch - 15ms/step\n",
      "Loss: 0.0704413577914238, Accuracy: 1.0\n"
     ]
    }
   ],
   "source": [
    "# Evaluate the model using the test data\n",
    "model_loss, model_accuracy = nn_model.evaluate(X_test_scaled,y_test,verbose=2)\n",
    "print(f\"Loss: {model_loss}, Accuracy: {model_accuracy}\")"
   ]
  },
  {
   "cell_type": "code",
   "execution_count": 14,
   "id": "f9d9db22",
   "metadata": {},
   "outputs": [
    {
     "name": "stdout",
     "output_type": "stream",
     "text": [
      "1/1 [==============================] - 0s 67ms/step\n"
     ]
    },
    {
     "data": {
      "text/plain": [
       "array([[0],\n",
       "       [1],\n",
       "       [0],\n",
       "       [1],\n",
       "       [0],\n",
       "       [0],\n",
       "       [1],\n",
       "       [1],\n",
       "       [1],\n",
       "       [0]])"
      ]
     },
     "execution_count": 14,
     "metadata": {},
     "output_type": "execute_result"
    }
   ],
   "source": [
    "# Predict the classification of a new set of blob data\n",
    "new_X, new_Y = make_blobs(n_samples=10, centers=2, n_features=2, random_state=78)\n",
    "new_X_scaled = X_scaler.transform(new_X)\n",
    "(nn_model.predict(new_X_scaled) > 0.5).astype(\"int32\")"
   ]
  },
  {
   "cell_type": "code",
   "execution_count": 15,
   "id": "61742f01",
   "metadata": {},
   "outputs": [
    {
     "data": {
      "text/plain": [
       "<AxesSubplot:xlabel='Feature 1', ylabel='Feature 2'>"
      ]
     },
     "execution_count": 15,
     "metadata": {},
     "output_type": "execute_result"
    },
    {
     "data": {
      "image/png": "[encoded data removed]",
      "text/plain": [
       "<Figure size 432x288 with 2 Axes>"
      ]
     },
     "metadata": {
      "needs_background": "light"
     },
     "output_type": "display_data"
    }
   ],
   "source": [
    "from sklearn.datasets import make_moons\n",
    "\n",
    "# Creating dummy nonlinear data\n",
    "X_moons, y_moons = make_moons(n_samples=1000, noise=0.08, random_state=78)\n",
    "\n",
    "# Transforming y_moons to a vertical vector\n",
    "y_moons = y_moons.reshape(-1, 1)\n",
    "\n",
    "# Creating a DataFrame to plot the nonlinear dummy data\n",
    "df_moons = pd.DataFrame(X_moons, columns=[\"Feature 1\", \"Feature 2\"])\n",
    "df_moons[\"Target\"] = y_moons\n",
    "\n",
    "# Plot the nonlinear dummy data\n",
    "df_moons.plot.scatter(x=\"Feature 1\",y=\"Feature 2\", c=\"Target\",colormap=\"winter\")"
   ]
  },
  {
   "cell_type": "code",
   "execution_count": 16,
   "id": "468dfdad",
   "metadata": {},
   "outputs": [],
   "source": [
    "# Create training and testing sets\n",
    "X_moon_train, X_moon_test, y_moon_train, y_moon_test = train_test_split(\n",
    "    X_moons, y_moons, random_state=78\n",
    ")\n",
    "\n",
    "# Create the scaler instance\n",
    "X_moon_scaler = skl.preprocessing.StandardScaler()\n",
    "\n",
    "# Fit the scaler\n",
    "X_moon_scaler.fit(X_moon_train)\n",
    "\n",
    "# Scale the data\n",
    "X_moon_train_scaled = X_moon_scaler.transform(X_moon_train)\n",
    "X_moon_test_scaled = X_moon_scaler.transform(X_moon_test)"
   ]
  },
  {
   "cell_type": "code",
   "execution_count": 17,
   "id": "ec26d11e",
   "metadata": {},
   "outputs": [
    {
     "name": "stdout",
     "output_type": "stream",
     "text": [
      "Epoch 1/100\n",
      "24/24 [==============================] - 0s 1ms/step - loss: 1.0319 - accuracy: 0.5067\n",
      "Epoch 2/100\n",
      "24/24 [==============================] - 0s 1ms/step - loss: 0.9277 - accuracy: 0.5227\n",
      "Epoch 3/100\n",
      "24/24 [==============================] - 0s 1ms/step - loss: 0.8552 - accuracy: 0.5373\n",
      "Epoch 4/100\n",
      "24/24 [==============================] - 0s 1ms/step - loss: 0.8048 - accuracy: 0.5493\n",
      "Epoch 5/100\n",
      "24/24 [==============================] - 0s 997us/step - loss: 0.7641 - accuracy: 0.5573\n",
      "Epoch 6/100\n",
      "24/24 [==============================] - 0s 1ms/step - loss: 0.7314 - accuracy: 0.5720\n",
      "Epoch 7/100\n",
      "24/24 [==============================] - 0s 911us/step - loss: 0.7030 - accuracy: 0.5907\n",
      "Epoch 8/100\n",
      "24/24 [==============================] - 0s 1ms/step - loss: 0.6783 - accuracy: 0.6053\n",
      "Epoch 9/100\n",
      "24/24 [==============================] - 0s 954us/step - loss: 0.6557 - accuracy: 0.6107\n",
      "Epoch 10/100\n",
      "24/24 [==============================] - 0s 1ms/step - loss: 0.6354 - accuracy: 0.6227\n",
      "Epoch 11/100\n",
      "24/24 [==============================] - 0s 997us/step - loss: 0.6152 - accuracy: 0.6320\n",
      "Epoch 12/100\n",
      "24/24 [==============================] - 0s 1ms/step - loss: 0.5971 - accuracy: 0.6400\n",
      "Epoch 13/100\n",
      "24/24 [==============================] - 0s 867us/step - loss: 0.5803 - accuracy: 0.6507\n",
      "Epoch 14/100\n",
      "24/24 [==============================] - 0s 911us/step - loss: 0.5645 - accuracy: 0.6600\n",
      "Epoch 15/100\n",
      "24/24 [==============================] - 0s 1ms/step - loss: 0.5498 - accuracy: 0.6653\n",
      "Epoch 16/100\n",
      "24/24 [==============================] - 0s 1ms/step - loss: 0.5364 - accuracy: 0.6747\n",
      "Epoch 17/100\n",
      "24/24 [==============================] - 0s 997us/step - loss: 0.5237 - accuracy: 0.6827\n",
      "Epoch 18/100\n",
      "24/24 [==============================] - 0s 997us/step - loss: 0.5121 - accuracy: 0.6880\n",
      "Epoch 19/100\n",
      "24/24 [==============================] - 0s 1ms/step - loss: 0.5011 - accuracy: 0.6960\n",
      "Epoch 20/100\n",
      "24/24 [==============================] - 0s 1ms/step - loss: 0.4908 - accuracy: 0.7013\n",
      "Epoch 21/100\n",
      "24/24 [==============================] - 0s 1ms/step - loss: 0.4811 - accuracy: 0.7107\n",
      "Epoch 22/100\n",
      "24/24 [==============================] - 0s 1ms/step - loss: 0.4720 - accuracy: 0.7173\n",
      "Epoch 23/100\n",
      "24/24 [==============================] - 0s 908us/step - loss: 0.4630 - accuracy: 0.7213\n",
      "Epoch 24/100\n",
      "24/24 [==============================] - 0s 997us/step - loss: 0.4549 - accuracy: 0.7267\n",
      "Epoch 25/100\n",
      "24/24 [==============================] - 0s 1ms/step - loss: 0.4466 - accuracy: 0.7333\n",
      "Epoch 26/100\n",
      "24/24 [==============================] - 0s 911us/step - loss: 0.4391 - accuracy: 0.7413\n",
      "Epoch 27/100\n",
      "24/24 [==============================] - 0s 1ms/step - loss: 0.4320 - accuracy: 0.7467\n",
      "Epoch 28/100\n",
      "24/24 [==============================] - 0s 997us/step - loss: 0.4248 - accuracy: 0.7560\n",
      "Epoch 29/100\n",
      "24/24 [==============================] - 0s 1ms/step - loss: 0.4179 - accuracy: 0.7653\n",
      "Epoch 30/100\n",
      "24/24 [==============================] - 0s 1ms/step - loss: 0.4113 - accuracy: 0.7707\n",
      "Epoch 31/100\n",
      "24/24 [==============================] - 0s 910us/step - loss: 0.4049 - accuracy: 0.7787\n",
      "Epoch 32/100\n",
      "24/24 [==============================] - 0s 954us/step - loss: 0.3988 - accuracy: 0.7813\n",
      "Epoch 33/100\n",
      "24/24 [==============================] - 0s 911us/step - loss: 0.3928 - accuracy: 0.7840\n",
      "Epoch 34/100\n",
      "24/24 [==============================] - 0s 1ms/step - loss: 0.3870 - accuracy: 0.7907\n",
      "Epoch 35/100\n",
      "24/24 [==============================] - 0s 997us/step - loss: 0.3814 - accuracy: 0.7907\n",
      "Epoch 36/100\n",
      "24/24 [==============================] - 0s 997us/step - loss: 0.3760 - accuracy: 0.7933\n",
      "Epoch 37/100\n",
      "24/24 [==============================] - 0s 952us/step - loss: 0.3708 - accuracy: 0.7987\n",
      "Epoch 38/100\n",
      "24/24 [==============================] - 0s 997us/step - loss: 0.3660 - accuracy: 0.8067\n",
      "Epoch 39/100\n",
      "24/24 [==============================] - 0s 997us/step - loss: 0.3612 - accuracy: 0.8107\n",
      "Epoch 40/100\n",
      "24/24 [==============================] - 0s 1ms/step - loss: 0.3566 - accuracy: 0.8160\n",
      "Epoch 41/100\n",
      "24/24 [==============================] - 0s 994us/step - loss: 0.3524 - accuracy: 0.8200\n",
      "Epoch 42/100\n",
      "24/24 [==============================] - 0s 1ms/step - loss: 0.3483 - accuracy: 0.8213\n",
      "Epoch 43/100\n",
      "24/24 [==============================] - 0s 996us/step - loss: 0.3444 - accuracy: 0.8240\n",
      "Epoch 44/100\n",
      "24/24 [==============================] - 0s 997us/step - loss: 0.3407 - accuracy: 0.8253\n",
      "Epoch 45/100\n",
      "24/24 [==============================] - 0s 1ms/step - loss: 0.3372 - accuracy: 0.8267\n",
      "Epoch 46/100\n",
      "24/24 [==============================] - 0s 911us/step - loss: 0.3339 - accuracy: 0.8267\n",
      "Epoch 47/100\n",
      "24/24 [==============================] - 0s 1ms/step - loss: 0.3307 - accuracy: 0.8280\n",
      "Epoch 48/100\n",
      "24/24 [==============================] - 0s 2ms/step - loss: 0.3276 - accuracy: 0.8307\n",
      "Epoch 49/100\n",
      "24/24 [==============================] - 0s 1ms/step - loss: 0.3249 - accuracy: 0.8307\n",
      "Epoch 50/100\n",
      "24/24 [==============================] - 0s 954us/step - loss: 0.3220 - accuracy: 0.8333\n",
      "Epoch 51/100\n",
      "24/24 [==============================] - 0s 1ms/step - loss: 0.3193 - accuracy: 0.8360\n",
      "Epoch 52/100\n",
      "24/24 [==============================] - 0s 902us/step - loss: 0.3167 - accuracy: 0.8387\n",
      "Epoch 53/100\n",
      "24/24 [==============================] - 0s 1ms/step - loss: 0.3143 - accuracy: 0.8427\n",
      "Epoch 54/100\n",
      "24/24 [==============================] - 0s 910us/step - loss: 0.3119 - accuracy: 0.8440\n",
      "Epoch 55/100\n",
      "24/24 [==============================] - 0s 781us/step - loss: 0.3097 - accuracy: 0.8467\n",
      "Epoch 56/100\n",
      "24/24 [==============================] - 0s 867us/step - loss: 0.3076 - accuracy: 0.8507\n",
      "Epoch 57/100\n",
      "24/24 [==============================] - 0s 951us/step - loss: 0.3056 - accuracy: 0.8520\n",
      "Epoch 58/100\n",
      "24/24 [==============================] - 0s 867us/step - loss: 0.3037 - accuracy: 0.8560\n",
      "Epoch 59/100\n",
      "24/24 [==============================] - 0s 905us/step - loss: 0.3018 - accuracy: 0.8573\n",
      "Epoch 60/100\n",
      "24/24 [==============================] - 0s 912us/step - loss: 0.3000 - accuracy: 0.8613\n",
      "Epoch 61/100\n",
      "24/24 [==============================] - 0s 867us/step - loss: 0.2983 - accuracy: 0.8640\n",
      "Epoch 62/100\n",
      "24/24 [==============================] - 0s 824us/step - loss: 0.2966 - accuracy: 0.8640\n",
      "Epoch 63/100\n",
      "24/24 [==============================] - 0s 911us/step - loss: 0.2949 - accuracy: 0.8640\n",
      "Epoch 64/100\n",
      "24/24 [==============================] - 0s 909us/step - loss: 0.2934 - accuracy: 0.8653\n",
      "Epoch 65/100\n",
      "24/24 [==============================] - 0s 911us/step - loss: 0.2919 - accuracy: 0.8667\n",
      "Epoch 66/100\n",
      "24/24 [==============================] - 0s 867us/step - loss: 0.2905 - accuracy: 0.8667\n",
      "Epoch 67/100\n",
      "24/24 [==============================] - 0s 824us/step - loss: 0.2892 - accuracy: 0.8680\n",
      "Epoch 68/100\n",
      "24/24 [==============================] - 0s 824us/step - loss: 0.2878 - accuracy: 0.8680\n",
      "Epoch 69/100\n",
      "24/24 [==============================] - 0s 824us/step - loss: 0.2866 - accuracy: 0.8680\n",
      "Epoch 70/100\n",
      "24/24 [==============================] - 0s 867us/step - loss: 0.2854 - accuracy: 0.8680\n",
      "Epoch 71/100\n",
      "24/24 [==============================] - 0s 824us/step - loss: 0.2842 - accuracy: 0.8707\n",
      "Epoch 72/100\n",
      "24/24 [==============================] - 0s 911us/step - loss: 0.2831 - accuracy: 0.8720\n",
      "Epoch 73/100\n",
      "24/24 [==============================] - 0s 911us/step - loss: 0.2820 - accuracy: 0.8747\n",
      "Epoch 74/100\n",
      "24/24 [==============================] - 0s 911us/step - loss: 0.2810 - accuracy: 0.8747\n",
      "Epoch 75/100\n",
      "24/24 [==============================] - 0s 1ms/step - loss: 0.2800 - accuracy: 0.8773\n",
      "Epoch 76/100\n",
      "24/24 [==============================] - 0s 911us/step - loss: 0.2790 - accuracy: 0.8773\n",
      "Epoch 77/100\n",
      "24/24 [==============================] - 0s 996us/step - loss: 0.2781 - accuracy: 0.8787\n",
      "Epoch 78/100\n",
      "24/24 [==============================] - 0s 984us/step - loss: 0.2772 - accuracy: 0.8787\n",
      "Epoch 79/100\n",
      "24/24 [==============================] - 0s 954us/step - loss: 0.2763 - accuracy: 0.8800\n",
      "Epoch 80/100\n",
      "24/24 [==============================] - 0s 1ms/step - loss: 0.2754 - accuracy: 0.8800\n",
      "Epoch 81/100\n",
      "24/24 [==============================] - 0s 954us/step - loss: 0.2746 - accuracy: 0.8813\n"
     ]
    },
    {
     "name": "stdout",
     "output_type": "stream",
     "text": [
      "Epoch 82/100\n",
      "24/24 [==============================] - 0s 867us/step - loss: 0.2739 - accuracy: 0.8813\n",
      "Epoch 83/100\n",
      "24/24 [==============================] - 0s 1ms/step - loss: 0.2731 - accuracy: 0.8827\n",
      "Epoch 84/100\n",
      "24/24 [==============================] - 0s 824us/step - loss: 0.2724 - accuracy: 0.8840\n",
      "Epoch 85/100\n",
      "24/24 [==============================] - 0s 867us/step - loss: 0.2717 - accuracy: 0.8840\n",
      "Epoch 86/100\n",
      "24/24 [==============================] - 0s 824us/step - loss: 0.2710 - accuracy: 0.8840\n",
      "Epoch 87/100\n",
      "24/24 [==============================] - 0s 911us/step - loss: 0.2703 - accuracy: 0.8840\n",
      "Epoch 88/100\n",
      "24/24 [==============================] - 0s 954us/step - loss: 0.2697 - accuracy: 0.8840\n",
      "Epoch 89/100\n",
      "24/24 [==============================] - 0s 995us/step - loss: 0.2691 - accuracy: 0.8840\n",
      "Epoch 90/100\n",
      "24/24 [==============================] - 0s 911us/step - loss: 0.2685 - accuracy: 0.8853\n",
      "Epoch 91/100\n",
      "24/24 [==============================] - 0s 824us/step - loss: 0.2680 - accuracy: 0.8853\n",
      "Epoch 92/100\n",
      "24/24 [==============================] - 0s 824us/step - loss: 0.2674 - accuracy: 0.8853\n",
      "Epoch 93/100\n",
      "24/24 [==============================] - 0s 832us/step - loss: 0.2669 - accuracy: 0.8840\n",
      "Epoch 94/100\n",
      "24/24 [==============================] - 0s 867us/step - loss: 0.2664 - accuracy: 0.8840\n",
      "Epoch 95/100\n",
      "24/24 [==============================] - 0s 911us/step - loss: 0.2659 - accuracy: 0.8867\n",
      "Epoch 96/100\n",
      "24/24 [==============================] - 0s 909us/step - loss: 0.2655 - accuracy: 0.8853\n",
      "Epoch 97/100\n",
      "24/24 [==============================] - 0s 824us/step - loss: 0.2649 - accuracy: 0.8853\n",
      "Epoch 98/100\n",
      "24/24 [==============================] - 0s 954us/step - loss: 0.2645 - accuracy: 0.8840\n",
      "Epoch 99/100\n",
      "24/24 [==============================] - 0s 911us/step - loss: 0.2641 - accuracy: 0.8853\n",
      "Epoch 100/100\n",
      "24/24 [==============================] - 0s 897us/step - loss: 0.2637 - accuracy: 0.8853\n"
     ]
    }
   ],
   "source": [
    "# Training the model with the nonlinear data\n",
    "model_moon = nn_model.fit(X_moon_train_scaled, y_moon_train, epochs=100, shuffle=True)"
   ]
  },
  {
   "cell_type": "code",
   "execution_count": 18,
   "id": "3faf1ec0",
   "metadata": {},
   "outputs": [
    {
     "data": {
      "text/plain": [
       "<AxesSubplot:>"
      ]
     },
     "execution_count": 18,
     "metadata": {},
     "output_type": "execute_result"
    },
    {
     "data": {
      "image/png": "[encoded data removed]",
      "text/plain": [
       "<Figure size 432x288 with 1 Axes>"
      ]
     },
     "metadata": {
      "needs_background": "light"
     },
     "output_type": "display_data"
    }
   ],
   "source": [
    "# Create a DataFrame containing training history\n",
    "history_df = pd.DataFrame(model_moon.history, index=range(1,len(model_moon.history[\"loss\"])+1))\n",
    "\n",
    "# Plot the loss\n",
    "history_df.plot(y=\"loss\")"
   ]
  },
  {
   "cell_type": "code",
   "execution_count": 19,
   "id": "64c7af9b",
   "metadata": {},
   "outputs": [
    {
     "data": {
      "text/plain": [
       "<AxesSubplot:>"
      ]
     },
     "execution_count": 19,
     "metadata": {},
     "output_type": "execute_result"
    },
    {
     "data": {
      "image/png": "[encoded data removed]",
      "text/plain": [
       "<Figure size 432x288 with 1 Axes>"
      ]
     },
     "metadata": {
      "needs_background": "light"
     },
     "output_type": "display_data"
    }
   ],
   "source": [
    "# Plot the accuracy\n",
    "history_df.plot(y=\"accuracy\")"
   ]
  },
  {
   "cell_type": "code",
   "execution_count": 20,
   "id": "864a7bd5",
   "metadata": {},
   "outputs": [],
   "source": [
    "# Generate our new Sequential model\n",
    "new_model = tf.keras.models.Sequential()"
   ]
  },
  {
   "cell_type": "code",
   "execution_count": 21,
   "id": "88d9853a",
   "metadata": {},
   "outputs": [],
   "source": [
    "# Add the input and hidden layer\n",
    "number_inputs = 2\n",
    "number_hidden_nodes = 6\n",
    "\n",
    "new_model.add(tf.keras.layers.Dense(units=number_hidden_nodes, activation=\"relu\", input_dim=number_inputs))\n",
    "\n",
    "# Add the output layer that uses a probability activation function\n",
    "new_model.add(tf.keras.layers.Dense(units=1, activation=\"sigmoid\"))"
   ]
  },
  {
   "cell_type": "code",
   "execution_count": 22,
   "id": "564b1260",
   "metadata": {},
   "outputs": [
    {
     "name": "stdout",
     "output_type": "stream",
     "text": [
      "Epoch 1/100\n",
      "24/24 [==============================] - 0s 1ms/step - loss: 0.6005 - accuracy: 0.8080\n",
      "Epoch 2/100\n",
      "24/24 [==============================] - 0s 1ms/step - loss: 0.5779 - accuracy: 0.8213\n",
      "Epoch 3/100\n",
      "24/24 [==============================] - 0s 2ms/step - loss: 0.5559 - accuracy: 0.8733\n",
      "Epoch 4/100\n",
      "24/24 [==============================] - 0s 2ms/step - loss: 0.5332 - accuracy: 0.8907\n",
      "Epoch 5/100\n",
      "24/24 [==============================] - 0s 1ms/step - loss: 0.5104 - accuracy: 0.9027\n",
      "Epoch 6/100\n",
      "24/24 [==============================] - 0s 2ms/step - loss: 0.4870 - accuracy: 0.9040\n",
      "Epoch 7/100\n",
      "24/24 [==============================] - 0s 1ms/step - loss: 0.4638 - accuracy: 0.9053\n",
      "Epoch 8/100\n",
      "24/24 [==============================] - 0s 1ms/step - loss: 0.4408 - accuracy: 0.9040\n",
      "Epoch 9/100\n",
      "24/24 [==============================] - 0s 1ms/step - loss: 0.4183 - accuracy: 0.9053\n",
      "Epoch 10/100\n",
      "24/24 [==============================] - 0s 1ms/step - loss: 0.3975 - accuracy: 0.9000\n",
      "Epoch 11/100\n",
      "24/24 [==============================] - 0s 1ms/step - loss: 0.3783 - accuracy: 0.8947\n",
      "Epoch 12/100\n",
      "24/24 [==============================] - 0s 1ms/step - loss: 0.3606 - accuracy: 0.8933\n",
      "Epoch 13/100\n",
      "24/24 [==============================] - 0s 1ms/step - loss: 0.3457 - accuracy: 0.8947\n",
      "Epoch 14/100\n",
      "24/24 [==============================] - 0s 1ms/step - loss: 0.3329 - accuracy: 0.8947\n",
      "Epoch 15/100\n",
      "24/24 [==============================] - 0s 1ms/step - loss: 0.3224 - accuracy: 0.8933\n",
      "Epoch 16/100\n",
      "24/24 [==============================] - 0s 1ms/step - loss: 0.3135 - accuracy: 0.8933\n",
      "Epoch 17/100\n",
      "24/24 [==============================] - 0s 1ms/step - loss: 0.3061 - accuracy: 0.8933\n",
      "Epoch 18/100\n",
      "24/24 [==============================] - 0s 1ms/step - loss: 0.2998 - accuracy: 0.8933\n",
      "Epoch 19/100\n",
      "24/24 [==============================] - 0s 1ms/step - loss: 0.2944 - accuracy: 0.8933\n",
      "Epoch 20/100\n",
      "24/24 [==============================] - 0s 1ms/step - loss: 0.2899 - accuracy: 0.8947\n",
      "Epoch 21/100\n",
      "24/24 [==============================] - 0s 1ms/step - loss: 0.2858 - accuracy: 0.8933\n",
      "Epoch 22/100\n",
      "24/24 [==============================] - 0s 1ms/step - loss: 0.2825 - accuracy: 0.8920\n",
      "Epoch 23/100\n",
      "24/24 [==============================] - 0s 1ms/step - loss: 0.2798 - accuracy: 0.8933\n",
      "Epoch 24/100\n",
      "24/24 [==============================] - 0s 1ms/step - loss: 0.2771 - accuracy: 0.8933\n",
      "Epoch 25/100\n",
      "24/24 [==============================] - 0s 1ms/step - loss: 0.2749 - accuracy: 0.8933\n",
      "Epoch 26/100\n",
      "24/24 [==============================] - 0s 1ms/step - loss: 0.2727 - accuracy: 0.8933\n",
      "Epoch 27/100\n",
      "24/24 [==============================] - 0s 1ms/step - loss: 0.2710 - accuracy: 0.8933\n",
      "Epoch 28/100\n",
      "24/24 [==============================] - 0s 1ms/step - loss: 0.2692 - accuracy: 0.8933\n",
      "Epoch 29/100\n",
      "24/24 [==============================] - 0s 1ms/step - loss: 0.2678 - accuracy: 0.8933\n",
      "Epoch 30/100\n",
      "24/24 [==============================] - 0s 996us/step - loss: 0.2663 - accuracy: 0.8933\n",
      "Epoch 31/100\n",
      "24/24 [==============================] - 0s 2ms/step - loss: 0.2649 - accuracy: 0.8933\n",
      "Epoch 32/100\n",
      "24/24 [==============================] - 0s 1ms/step - loss: 0.2637 - accuracy: 0.8933\n",
      "Epoch 33/100\n",
      "24/24 [==============================] - 0s 1ms/step - loss: 0.2627 - accuracy: 0.8933\n",
      "Epoch 34/100\n",
      "24/24 [==============================] - 0s 1ms/step - loss: 0.2615 - accuracy: 0.8933\n",
      "Epoch 35/100\n",
      "24/24 [==============================] - 0s 1ms/step - loss: 0.2604 - accuracy: 0.8933\n",
      "Epoch 36/100\n",
      "24/24 [==============================] - 0s 1ms/step - loss: 0.2594 - accuracy: 0.8920\n",
      "Epoch 37/100\n",
      "24/24 [==============================] - 0s 1ms/step - loss: 0.2585 - accuracy: 0.8920\n",
      "Epoch 38/100\n",
      "24/24 [==============================] - 0s 1ms/step - loss: 0.2574 - accuracy: 0.8920\n",
      "Epoch 39/100\n",
      "24/24 [==============================] - 0s 1ms/step - loss: 0.2565 - accuracy: 0.8920\n",
      "Epoch 40/100\n",
      "24/24 [==============================] - 0s 1ms/step - loss: 0.2556 - accuracy: 0.8920\n",
      "Epoch 41/100\n",
      "24/24 [==============================] - 0s 1ms/step - loss: 0.2547 - accuracy: 0.8933\n",
      "Epoch 42/100\n",
      "24/24 [==============================] - 0s 1ms/step - loss: 0.2538 - accuracy: 0.8933\n",
      "Epoch 43/100\n",
      "24/24 [==============================] - 0s 1ms/step - loss: 0.2530 - accuracy: 0.8933\n",
      "Epoch 44/100\n",
      "24/24 [==============================] - 0s 1ms/step - loss: 0.2522 - accuracy: 0.8933\n",
      "Epoch 45/100\n",
      "24/24 [==============================] - 0s 1ms/step - loss: 0.2514 - accuracy: 0.8933\n",
      "Epoch 46/100\n",
      "24/24 [==============================] - 0s 1ms/step - loss: 0.2505 - accuracy: 0.8933\n",
      "Epoch 47/100\n",
      "24/24 [==============================] - 0s 1ms/step - loss: 0.2499 - accuracy: 0.8947\n",
      "Epoch 48/100\n",
      "24/24 [==============================] - 0s 2ms/step - loss: 0.2490 - accuracy: 0.8947\n",
      "Epoch 49/100\n",
      "24/24 [==============================] - 0s 1ms/step - loss: 0.2483 - accuracy: 0.8947\n",
      "Epoch 50/100\n",
      "24/24 [==============================] - 0s 1ms/step - loss: 0.2477 - accuracy: 0.8947\n",
      "Epoch 51/100\n",
      "24/24 [==============================] - 0s 1ms/step - loss: 0.2469 - accuracy: 0.8960\n",
      "Epoch 52/100\n",
      "24/24 [==============================] - 0s 1ms/step - loss: 0.2463 - accuracy: 0.8960\n",
      "Epoch 53/100\n",
      "24/24 [==============================] - 0s 2ms/step - loss: 0.2457 - accuracy: 0.8960\n",
      "Epoch 54/100\n",
      "24/24 [==============================] - 0s 997us/step - loss: 0.2451 - accuracy: 0.8973\n",
      "Epoch 55/100\n",
      "24/24 [==============================] - 0s 1ms/step - loss: 0.2445 - accuracy: 0.9000\n",
      "Epoch 56/100\n",
      "24/24 [==============================] - 0s 911us/step - loss: 0.2438 - accuracy: 0.8987\n",
      "Epoch 57/100\n",
      "24/24 [==============================] - 0s 1ms/step - loss: 0.2432 - accuracy: 0.9000\n",
      "Epoch 58/100\n",
      "24/24 [==============================] - 0s 997us/step - loss: 0.2427 - accuracy: 0.9000\n",
      "Epoch 59/100\n",
      "24/24 [==============================] - 0s 1ms/step - loss: 0.2420 - accuracy: 0.9000\n",
      "Epoch 60/100\n",
      "24/24 [==============================] - 0s 1ms/step - loss: 0.2415 - accuracy: 0.9000\n",
      "Epoch 61/100\n",
      "24/24 [==============================] - 0s 1ms/step - loss: 0.2408 - accuracy: 0.9013\n",
      "Epoch 62/100\n",
      "24/24 [==============================] - 0s 1ms/step - loss: 0.2403 - accuracy: 0.9013\n",
      "Epoch 63/100\n",
      "24/24 [==============================] - 0s 1ms/step - loss: 0.2397 - accuracy: 0.9000\n",
      "Epoch 64/100\n",
      "24/24 [==============================] - 0s 1ms/step - loss: 0.2392 - accuracy: 0.9000\n",
      "Epoch 65/100\n",
      "24/24 [==============================] - 0s 1ms/step - loss: 0.2388 - accuracy: 0.9000\n",
      "Epoch 66/100\n",
      "24/24 [==============================] - 0s 1ms/step - loss: 0.2383 - accuracy: 0.9000\n",
      "Epoch 67/100\n",
      "24/24 [==============================] - 0s 1ms/step - loss: 0.2377 - accuracy: 0.9000\n",
      "Epoch 68/100\n",
      "24/24 [==============================] - 0s 1ms/step - loss: 0.2373 - accuracy: 0.9000\n",
      "Epoch 69/100\n",
      "24/24 [==============================] - 0s 1ms/step - loss: 0.2369 - accuracy: 0.9000\n",
      "Epoch 70/100\n",
      "24/24 [==============================] - 0s 1ms/step - loss: 0.2363 - accuracy: 0.9000\n",
      "Epoch 71/100\n",
      "24/24 [==============================] - 0s 1ms/step - loss: 0.2358 - accuracy: 0.9027\n",
      "Epoch 72/100\n",
      "24/24 [==============================] - 0s 1ms/step - loss: 0.2354 - accuracy: 0.9027\n",
      "Epoch 73/100\n",
      "24/24 [==============================] - 0s 1ms/step - loss: 0.2349 - accuracy: 0.9027\n",
      "Epoch 74/100\n",
      "24/24 [==============================] - 0s 1ms/step - loss: 0.2344 - accuracy: 0.9027\n",
      "Epoch 75/100\n",
      "24/24 [==============================] - 0s 1ms/step - loss: 0.2338 - accuracy: 0.9027\n",
      "Epoch 76/100\n",
      "24/24 [==============================] - 0s 1ms/step - loss: 0.2333 - accuracy: 0.9027\n",
      "Epoch 77/100\n",
      "24/24 [==============================] - 0s 954us/step - loss: 0.2328 - accuracy: 0.9027\n",
      "Epoch 78/100\n",
      "24/24 [==============================] - 0s 1ms/step - loss: 0.2324 - accuracy: 0.9040\n",
      "Epoch 79/100\n",
      "24/24 [==============================] - 0s 1ms/step - loss: 0.2318 - accuracy: 0.9040\n",
      "Epoch 80/100\n",
      "24/24 [==============================] - 0s 1ms/step - loss: 0.2312 - accuracy: 0.9027\n",
      "Epoch 81/100\n",
      "24/24 [==============================] - 0s 1ms/step - loss: 0.2305 - accuracy: 0.9027\n",
      "Epoch 82/100\n"
     ]
    },
    {
     "name": "stdout",
     "output_type": "stream",
     "text": [
      "24/24 [==============================] - 0s 1ms/step - loss: 0.2300 - accuracy: 0.9040\n",
      "Epoch 83/100\n",
      "24/24 [==============================] - 0s 1ms/step - loss: 0.2294 - accuracy: 0.9040\n",
      "Epoch 84/100\n",
      "24/24 [==============================] - 0s 954us/step - loss: 0.2288 - accuracy: 0.9040\n",
      "Epoch 85/100\n",
      "24/24 [==============================] - 0s 1ms/step - loss: 0.2280 - accuracy: 0.9040\n",
      "Epoch 86/100\n",
      "24/24 [==============================] - 0s 1ms/step - loss: 0.2273 - accuracy: 0.9040\n",
      "Epoch 87/100\n",
      "24/24 [==============================] - 0s 988us/step - loss: 0.2267 - accuracy: 0.9040\n",
      "Epoch 88/100\n",
      "24/24 [==============================] - 0s 1ms/step - loss: 0.2259 - accuracy: 0.9040\n",
      "Epoch 89/100\n",
      "24/24 [==============================] - 0s 1ms/step - loss: 0.2251 - accuracy: 0.9040\n",
      "Epoch 90/100\n",
      "24/24 [==============================] - 0s 954us/step - loss: 0.2245 - accuracy: 0.9040\n",
      "Epoch 91/100\n",
      "24/24 [==============================] - 0s 1ms/step - loss: 0.2237 - accuracy: 0.9040\n",
      "Epoch 92/100\n",
      "24/24 [==============================] - 0s 1ms/step - loss: 0.2230 - accuracy: 0.9040\n",
      "Epoch 93/100\n",
      "24/24 [==============================] - 0s 1ms/step - loss: 0.2222 - accuracy: 0.9040\n",
      "Epoch 94/100\n",
      "24/24 [==============================] - 0s 1ms/step - loss: 0.2215 - accuracy: 0.9040\n",
      "Epoch 95/100\n",
      "24/24 [==============================] - 0s 1ms/step - loss: 0.2206 - accuracy: 0.9040\n",
      "Epoch 96/100\n",
      "24/24 [==============================] - 0s 997us/step - loss: 0.2198 - accuracy: 0.9040\n",
      "Epoch 97/100\n",
      "24/24 [==============================] - 0s 1ms/step - loss: 0.2190 - accuracy: 0.9040\n",
      "Epoch 98/100\n",
      "24/24 [==============================] - 0s 1ms/step - loss: 0.2181 - accuracy: 0.9040\n",
      "Epoch 99/100\n",
      "24/24 [==============================] - 0s 1ms/step - loss: 0.2173 - accuracy: 0.9040\n",
      "Epoch 100/100\n",
      "24/24 [==============================] - 0s 1ms/step - loss: 0.2165 - accuracy: 0.9040\n"
     ]
    }
   ],
   "source": [
    "# Compile the Sequential model together and customize metrics\n",
    "new_model.compile(loss=\"binary_crossentropy\", optimizer=\"adam\", metrics=[\"accuracy\"])\n",
    "\n",
    "# Fit the model to the training data\n",
    "new_fit_model = new_model.fit(X_moon_train_scaled, y_moon_train, epochs=100, shuffle=True)"
   ]
  },
  {
   "cell_type": "code",
   "execution_count": null,
   "id": "be50dea2",
   "metadata": {},
   "outputs": [],
   "source": []
  }
 ],
 "metadata": {
  "kernelspec": {
   "display_name": "mlenv",
   "language": "python",
   "name": "mlenv"
  },
  "language_info": {
   "codemirror_mode": {
    "name": "ipython",
    "version": 3
   },
   "file_extension": ".py",
   "mimetype": "text/x-python",
   "name": "python",
   "nbconvert_exporter": "python",
   "pygments_lexer": "ipython3",
   "version": "3.7.13"
  }
 },
 "nbformat": 4,
 "nbformat_minor": 5
}
